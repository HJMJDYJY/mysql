{
 "cells": [
  {
   "cell_type": "markdown",
   "metadata": {},
   "source": [
    "# 函数\n",
    "\n",
    "- 函数可以用来定义可重复代码，组织和简化\n",
    "- 一般来说一个函数在实际开发中为一个小功能\n",
    "- 一个类为一个大功能\n",
    "- 同样函数的长度不要超过一屏"
   ]
  },
  {
   "cell_type": "markdown",
   "metadata": {},
   "source": [
    "## 定义一个函数\n",
    "\n",
    "def function_name(list of parameters):\n",
    "    \n",
    "    do something\n",
    "![](../Photo/69.png)\n",
    "- 以前使用的random 或者range 或者print.. 其实都是函数或者类"
   ]
  },
  {
   "cell_type": "code",
   "execution_count": 2,
   "metadata": {},
   "outputs": [],
   "source": [
    "def jj():\n",
    "    print('hello')"
   ]
  },
  {
   "cell_type": "code",
   "execution_count": 3,
   "metadata": {},
   "outputs": [
    {
     "name": "stdout",
     "output_type": "stream",
     "text": [
      "hello\n"
     ]
    }
   ],
   "source": [
    "jj()\n",
    "##()调用函数"
   ]
  },
  {
   "cell_type": "code",
   "execution_count": 11,
   "metadata": {},
   "outputs": [
    {
     "name": "stdout",
     "output_type": "stream",
     "text": [
      "hello\n",
      "None\n"
     ]
    }
   ],
   "source": [
    "a = jj()\n",
    "print(a)\n",
    "##python中实际中都有返回值\n",
    "##如果你没有设置return,那么python将显示none\n",
    "##如果你设置return，那么python将不显示none"
   ]
  },
  {
   "cell_type": "code",
   "execution_count": 14,
   "metadata": {},
   "outputs": [
    {
     "data": {
      "text/plain": [
       "4"
      ]
     },
     "execution_count": 14,
     "metadata": {},
     "output_type": "execute_result"
    }
   ],
   "source": [
    "def max_(num1,num2):\n",
    "    if num1>num2:\n",
    "        return num1\n",
    "    else:\n",
    "        return num2\n",
    "max_(2,4)"
   ]
  },
  {
   "cell_type": "code",
   "execution_count": 23,
   "metadata": {},
   "outputs": [
    {
     "data": {
      "text/plain": [
       "369"
      ]
     },
     "execution_count": 23,
     "metadata": {},
     "output_type": "execute_result"
    }
   ],
   "source": [
    "def max_(num1,num2,num3):\n",
    "    if num1 > num2 and num1 > num3:\n",
    "        return num1 \n",
    "    elif num2 > num1 and num2 > num3:\n",
    "        return num2\n",
    "    elif num3 > num1 and num3 > num2:\n",
    "        return num3\n",
    "max_(147,258,369)"
   ]
  },
  {
   "cell_type": "code",
   "execution_count": 27,
   "metadata": {},
   "outputs": [
    {
     "name": "stdout",
     "output_type": "stream",
     "text": [
      "YXD is a good people!\n"
     ]
    }
   ],
   "source": [
    "##函数的参数如果有默认值的情况，\n",
    "##当你调用函数的时候可以不给予参数值，那么会走该参数的默认值，\n",
    "##否则话就会走你给的参数值\n",
    "##含有默认值的参数一定放在最后面\n",
    "def good(name ='YXD'):\n",
    "    print('%s is a good people!'%name)\n",
    "good()"
   ]
  },
  {
   "cell_type": "code",
   "execution_count": 42,
   "metadata": {},
   "outputs": [
    {
     "name": "stdout",
     "output_type": "stream",
     "text": [
      "YXD is a good people!\n"
     ]
    }
   ],
   "source": [
    "def good(name2='FHW',name ='YXD'):\n",
    "    print('%s is a good people!'%name)\n",
    "good('')"
   ]
  },
  {
   "cell_type": "markdown",
   "metadata": {},
   "source": [
    "## 调用一个函数\n",
    "- functionName()\n",
    "- \"()\" 就代表调用"
   ]
  },
  {
   "cell_type": "markdown",
   "metadata": {},
   "source": [
    "![](../Photo/70.png)"
   ]
  },
  {
   "cell_type": "markdown",
   "metadata": {},
   "source": [
    "## 带返回值和不带返回值的函数\n",
    "- return 返回的内容\n",
    "- return 返回多个值\n",
    "- 一般情况下，在多个函数协同完成一个功能的时候，那么将会有返回值"
   ]
  },
  {
   "cell_type": "markdown",
   "metadata": {},
   "source": [
    "![](../Photo/71.png)\n",
    "\n",
    "- 当然也可以自定义返回None"
   ]
  },
  {
   "cell_type": "markdown",
   "metadata": {},
   "source": [
    "## EP：\n",
    "![](../Photo/72.png)"
   ]
  },
  {
   "cell_type": "markdown",
   "metadata": {},
   "source": [
    "# KNN算法\n",
    "# 读取图片，进行对比分析\n",
    "import matplotlib.pyplot as plt \n",
    "\n",
    "res = plt.imread('D:/rabbit.jpg')\n",
    "print(res)"
   ]
  },
  {
   "cell_type": "code",
   "execution_count": 47,
   "metadata": {},
   "outputs": [
    {
     "name": "stdout",
     "output_type": "stream",
     "text": [
      "hahaha\n"
     ]
    }
   ],
   "source": [
    "def fun1():\n",
    "    print('hahaha')\n",
    "def fun2():\n",
    "    fun1\n",
    "fun1()"
   ]
  },
  {
   "cell_type": "code",
   "execution_count": 6,
   "metadata": {},
   "outputs": [
    {
     "name": "stdout",
     "output_type": "stream",
     "text": [
      "请输入一数个: 25\n",
      "这个数是奇数\n"
     ]
    }
   ],
   "source": [
    "def num():\n",
    "    number = eval(input(\"请输入一数个: \"))\n",
    "    if number % 2 == 0:\n",
    "        print('这个数是偶数')\n",
    "    else:\n",
    "        print('这个数是奇数')\n",
    "num()"
   ]
  },
  {
   "cell_type": "code",
   "execution_count": 68,
   "metadata": {},
   "outputs": [
    {
     "name": "stdout",
     "output_type": "stream",
     "text": [
      "输入一个随机数6\n",
      "太大了\n",
      "输入一个随机数5\n",
      "太大了\n",
      "输入一个随机数2\n",
      "太小了\n",
      "输入一个随机数3\n",
      "太小了\n",
      "输入一个随机数4\n",
      "end\n"
     ]
    }
   ],
   "source": [
    "def sum_():\n",
    "    import random\n",
    "    for i in range(5):\n",
    "        a = eval(input(\"输入一个随机数\"))\n",
    "        b = random. randint(1,5)\n",
    "        if a > b:\n",
    "            print(\"太大了\")\n",
    "        if a < b:\n",
    "            print(\"太小了\")\n",
    "        if a == b:\n",
    "            print('end')\n",
    "            break\n",
    "sum_()            "
   ]
  },
  {
   "cell_type": "markdown",
   "metadata": {},
   "source": [
    "## 类型和关键字参数\n",
    "- 普通参数\n",
    "- 多个参数\n",
    "- 默认值参数\n",
    "- 不定长参数"
   ]
  },
  {
   "cell_type": "markdown",
   "metadata": {},
   "source": [
    "## 普通参数"
   ]
  },
  {
   "cell_type": "markdown",
   "metadata": {},
   "source": [
    "## 多个参数"
   ]
  },
  {
   "cell_type": "markdown",
   "metadata": {},
   "source": [
    "## 默认值参数\n",
    "- 默认参数只能放在最后  *之后的必须强制命名传入参数,* 之后的变量必须带参数名"
   ]
  },
  {
   "cell_type": "markdown",
   "metadata": {},
   "source": [
    "# 强制命名\n",
    "- *之后的必须强制命名传入参数,* 之后的变量必须带参数名"
   ]
  },
  {
   "cell_type": "markdown",
   "metadata": {},
   "source": [
    "## 不定长参数\n",
    "- \\*args, 不定长，输入多少参数都可以，不写入参数也可以\n",
    "> - 可以输入多个参数\n",
    "  - 返回输出结果的类型是元组类型，元组可以迭代，输入多少个参数都可以迭代来取出\n",
    "  - args 名字是可以修改的，只是通常约定为args\n",
    "- \\**kwargs, 不定长第二种\n",
    "> - 可以输入多个参数，但需要带参数名称\n",
    "  - 返回的数据类型是字典\n",
    "  - 输入的一定要是表达式(键值对)\n",
    "- 一般大的项目传入参数时，使用config文件一次写入所有的参数"
   ]
  },
  {
   "cell_type": "markdown",
   "metadata": {},
   "source": [
    "### \\**kwargs, 不定长第二种\n",
    "- 第二种不定长参数传入方法，使用字典数据传入\n",
    "- 写入参数时，必须先写\\*args, 再写\\**kwargs。 这是固定写法"
   ]
  },
  {
   "cell_type": "markdown",
   "metadata": {},
   "source": [
    "## 变量的作用域\n",
    "- 局部变量 local\n",
    "- 全局变量 global\n",
    "- globals 函数返回一个全局变量的字典，包括所有导入的变量\n",
    "- locals() 函数会以字典类型返回当前位置的全部局部变量。"
   ]
  },
  {
   "cell_type": "markdown",
   "metadata": {},
   "source": [
    "## 注意：\n",
    "- global ：在进行赋值操作的时候需要声明\n",
    "- 官方解释：This is because when you make an assignment to a variable in a scope, that variable becomes local to that scope and shadows any similarly named variable in the outer scope.\n",
    "- ![](../Photo/73.png)"
   ]
  },
  {
   "cell_type": "markdown",
   "metadata": {},
   "source": [
    "## EP：\n",
    "- 定义一个邮箱加密函数，使得输入邮箱后进行ASCII码加密\n",
    "- 定义一个判断其是否为闰年的函数\n",
    "- 函数的嵌套：定义两个函数A，B，B函数接受A函数的数值并判定是否为奇数或者偶数"
   ]
  },
  {
   "cell_type": "markdown",
   "metadata": {},
   "source": [
    "# Homework\n",
    "- 1\n",
    "![](../Photo/74.png)"
   ]
  },
  {
   "cell_type": "code",
   "execution_count": 1,
   "metadata": {},
   "outputs": [
    {
     "name": "stdout",
     "output_type": "stream",
     "text": [
      "1  5  12  22  35  51  70  92  117  145  \n",
      "176  210  247  287  330  376  425  477  532  590  \n",
      "651  715  782  852  925  1001  1080  1162  1247  1335  \n",
      "1426  1520  1617  1717  1820  1926  2035  2147  2262  2380  \n",
      "2501  2625  2752  2882  3015  3151  3290  3432  3577  3725  \n",
      "3876  4030  4187  4347  4510  4676  4845  5017  5192  5370  \n",
      "5551  5735  5922  6112  6305  6501  6700  6902  7107  7315  \n",
      "7526  7740  7957  8177  8400  8626  8855  9087  9322  9560  \n",
      "9801  10045  10292  10542  10795  11051  11310  11572  11837  12105  \n",
      "12376  12650  12927  13207  13490  13776  14065  14357  14652  "
     ]
    }
   ],
   "source": [
    "num = 0\n",
    "for i in range(1,100):\n",
    "    wu_=(i*(3*i-1))/2\n",
    "    print('%d'%wu_,end = '  ')\n",
    "    num+=1\n",
    "    if num % 10==0:\n",
    "        print()"
   ]
  },
  {
   "cell_type": "markdown",
   "metadata": {},
   "source": [
    "- 2 \n",
    "![](../Photo/75.png)"
   ]
  },
  {
   "cell_type": "code",
   "execution_count": 103,
   "metadata": {},
   "outputs": [
    {
     "name": "stdout",
     "output_type": "stream",
     "text": [
      "请输入一数个三位数: 234\n",
      "9\n"
     ]
    }
   ],
   "source": [
    "def sum_():\n",
    "    a_ = eval(input(\"请输入一数个三位数: \"))\n",
    "    sumDigits=(a_%10)+((a_//10)%10)+((a_//10)//10)\n",
    "    print(sumDigits)\n",
    "sum_()"
   ]
  },
  {
   "cell_type": "markdown",
   "metadata": {},
   "source": [
    "- 3\n",
    "![](../Photo/76.png)"
   ]
  },
  {
   "cell_type": "code",
   "execution_count": 107,
   "metadata": {},
   "outputs": [
    {
     "data": {
      "text/plain": [
       "(2.4, 3, 5)"
      ]
     },
     "execution_count": 107,
     "metadata": {},
     "output_type": "execute_result"
    }
   ],
   "source": [
    "def max_(num1,num2,num3):\n",
    "    if num1 < num2 < num3:\n",
    "        return (num1 ,num2,num3)\n",
    "    elif num1< num3 < num2:\n",
    "        return (num1,num3,num2)\n",
    "    elif num2< num1 < num3:\n",
    "        return (num2,num1,num3)\n",
    "    elif num2< num3 < num1:\n",
    "        return (num2,num3,num1)\n",
    "    elif num3< num1 < num2:\n",
    "        return (num3,num1,num2)\n",
    "    elif num3< num2 < num1:\n",
    "        return (num3,num2,num1)\n",
    "max_(3,2.4,5)"
   ]
  },
  {
   "cell_type": "markdown",
   "metadata": {},
   "source": [
    "# - 4\n",
    "![](../Photo/77.png)"
   ]
  },
  {
   "cell_type": "code",
   "execution_count": 146,
   "metadata": {},
   "outputs": [
    {
     "name": "stdout",
     "output_type": "stream",
     "text": [
      "输入投资额1000\n",
      "输入年利率9\n",
      "1 1090.0\n",
      "2 1188.1000000000001\n",
      "3 1295.0290000000002\n",
      "4 1411.5816100000004\n",
      "5 1538.6239549000004\n",
      "6 1677.1001108410007\n",
      "7 1828.039120816691\n",
      "8 1992.5626416901935\n",
      "9 2171.893279442311\n",
      "10 2367.363674592119\n",
      "11 2580.42640530541\n",
      "12 2812.664781782897\n",
      "13 3065.8046121433576\n",
      "14 3341.7270272362603\n",
      "15 3642.482459687524\n",
      "16 3970.3058810594016\n",
      "17 4327.633410354748\n",
      "18 4717.120417286676\n",
      "19 5141.661254842477\n",
      "20 5604.4107677783\n",
      "21 6108.807736878347\n",
      "22 6658.6004331974\n",
      "23 7257.874472185165\n",
      "24 7911.083174681831\n",
      "25 8623.080660403197\n",
      "26 9399.157919839485\n",
      "27 10245.08213262504\n",
      "28 11167.139524561295\n",
      "29 12172.182081771813\n"
     ]
    }
   ],
   "source": [
    "def sum_():\n",
    "    touzi = int(input(\"输入投资额\"))\n",
    "    rate = int(input(\"输入年利率\"))\n",
    "    for year in range(1,30):\n",
    "        future=touzi*(1+ rate/100)**year\n",
    "        print(year,future)\n",
    "sum_()"
   ]
  },
  {
   "cell_type": "markdown",
   "metadata": {},
   "source": [
    "- 5\n",
    "![](../Photo/78.png)"
   ]
  },
  {
   "cell_type": "code",
   "execution_count": 43,
   "metadata": {},
   "outputs": [
    {
     "name": "stdout",
     "output_type": "stream",
     "text": [
      "73 74 75 76 77 78 79 80 81 82 R\n",
      "83 84 85 86 87 88 89 "
     ]
    }
   ],
   "source": [
    "##(\"I\",\"Z\")\n",
    "def sum_(i):\n",
    "    num = 0\n",
    "    for i in range(73,90):\n",
    "        print('%d'%i,end=' ')\n",
    "        num+=1\n",
    "        if num % 10==0:\n",
    "            print(chr(i))\n",
    "sum_(i)    "
   ]
  },
  {
   "cell_type": "markdown",
   "metadata": {},
   "source": [
    "- 6\n",
    "![](../Photo/79.png)"
   ]
  },
  {
   "cell_type": "code",
   "execution_count": 42,
   "metadata": {},
   "outputs": [
    {
     "name": "stdout",
     "output_type": "stream",
     "text": [
      "2010 365天\n",
      "2011 365天\n",
      "2012 366天\n",
      "2013 365天\n",
      "2014 365天\n",
      "2015 365天\n",
      "2016 366天\n",
      "2017 365天\n",
      "2018 365天\n",
      "2019 365天\n"
     ]
    }
   ],
   "source": [
    "def sum_(i):\n",
    "    for i in range(2010,2020):\n",
    "        if (i % 4 == 0 and i % 100!= 0)or (i %400 == 0):\n",
    "            print(i,'366天')\n",
    "        else:\n",
    "            print(i,'365天')\n",
    "sum_(i)"
   ]
  },
  {
   "cell_type": "markdown",
   "metadata": {},
   "source": [
    "- 7\n",
    "![](../Photo/80.png)"
   ]
  },
  {
   "cell_type": "code",
   "execution_count": 66,
   "metadata": {},
   "outputs": [
    {
     "name": "stdout",
     "output_type": "stream",
     "text": [
      "输入第一个点的横坐标:2\n",
      "输入第一个点的纵坐标:1\n",
      "输入第二个点的横坐标:1\n",
      "输入第二个点的纵坐标:0\n",
      "1.4142135623730951\n"
     ]
    }
   ],
   "source": [
    "import math\n",
    "sum_():\n",
    "    x1 = int(input(\"输入第一个点的横坐标:\"))\n",
    "    y1 = int(input(\"输入第一个点的纵坐标:\"))\n",
    "    x2 = int(input(\"输入第二个点的横坐标:\"))\n",
    "    y2 = int(input(\"输入第二个点的纵坐标:\"))\n",
    "    x = (x2-x1)**2\n",
    "    y = (y2-y1)**2\n",
    "    distanse = math.sqrt(x+y)\n",
    "    print(distanse)\n",
    "sum_()    "
   ]
  },
  {
   "cell_type": "markdown",
   "metadata": {},
   "source": [
    "- 8\n",
    "![](../Photo/81.png)"
   ]
  },
  {
   "cell_type": "code",
   "execution_count": 98,
   "metadata": {},
   "outputs": [
    {
     "ename": "SyntaxError",
     "evalue": "'return' outside function (<ipython-input-98-9027f7123698>, line 5)",
     "output_type": "error",
     "traceback": [
      "\u001b[1;36m  File \u001b[1;32m\"<ipython-input-98-9027f7123698>\"\u001b[1;36m, line \u001b[1;32m5\u001b[0m\n\u001b[1;33m    return False\u001b[0m\n\u001b[1;37m    ^\u001b[0m\n\u001b[1;31mSyntaxError\u001b[0m\u001b[1;31m:\u001b[0m 'return' outside function\n"
     ]
    }
   ],
   "source": [
    "num = 0\n",
    "num +=1\n",
    "for i in range(1,32):\n",
    "    if num<=1:\n",
    "        return False\n",
    "    if not num % i:\n",
    "        return False\n",
    "    else:\n",
    "        return(i)     "
   ]
  },
  {
   "cell_type": "markdown",
   "metadata": {},
   "source": [
    "- 9\n",
    "![](../Photo/82.png)\n",
    "![](../Photo/83.png)"
   ]
  },
  {
   "cell_type": "code",
   "execution_count": null,
   "metadata": {},
   "outputs": [],
   "source": []
  },
  {
   "cell_type": "markdown",
   "metadata": {},
   "source": [
    "- 10\n",
    "![](../Photo/84.png)"
   ]
  },
  {
   "cell_type": "markdown",
   "metadata": {},
   "source": [
    "- 11 \n",
    "### 去网上寻找如何用Python代码发送邮件 \n",
    "    - time.sleep(3)  3秒发送一次\n",
    "    - 一旦错误后，重新换一个邮箱"
   ]
  }
 ],
 "metadata": {
  "kernelspec": {
   "display_name": "Python 3",
   "language": "python",
   "name": "python3"
  },
  "language_info": {
   "codemirror_mode": {
    "name": "ipython",
    "version": 3
   },
   "file_extension": ".py",
   "mimetype": "text/x-python",
   "name": "python",
   "nbconvert_exporter": "python",
   "pygments_lexer": "ipython3",
   "version": "3.7.3"
  }
 },
 "nbformat": 4,
 "nbformat_minor": 2
}
