{
 "cells": [
  {
   "cell_type": "markdown",
   "metadata": {},
   "source": [
    "# 选择\n",
    "## 布尔类型、数值和表达式\n",
    "![](../Photo/33.png)\n",
    "- 注意：比较运算符的相等是两个等号，一个等到代表赋值\n",
    "- 在Python中可以用整型0来代表False，其他数字来代表True\n",
    "- 后面还会讲到 is 在判断语句中的用发"
   ]
  },
  {
   "cell_type": "code",
   "execution_count": 6,
   "metadata": {},
   "outputs": [
    {
     "name": "stdout",
     "output_type": "stream",
     "text": [
      "140727794176832 140727794176832\n"
     ]
    }
   ],
   "source": [
    "a = id(1)\n",
    "b = id(1)\n",
    " # 因为a和b并不是同一个对象\n",
    "print(a,b)\n",
    "# a is b错\n",
    "# a == b对"
   ]
  },
  {
   "cell_type": "code",
   "execution_count": 3,
   "metadata": {},
   "outputs": [
    {
     "data": {
      "text/plain": [
       "True"
      ]
     },
     "execution_count": 3,
     "metadata": {},
     "output_type": "execute_result"
    }
   ],
   "source": [
    "a =('for')\n",
    "b =('for')\n",
    "a == b"
   ]
  },
  {
   "cell_type": "markdown",
   "metadata": {},
   "source": [
    "## 字符串的比较使用ASCII值"
   ]
  },
  {
   "cell_type": "code",
   "execution_count": 7,
   "metadata": {},
   "outputs": [
    {
     "data": {
      "text/plain": [
       "False"
      ]
     },
     "execution_count": 7,
     "metadata": {},
     "output_type": "execute_result"
    }
   ],
   "source": [
    "a = \"Joker\"\n",
    "b = \"joker\"\n",
    "a > b"
   ]
  },
  {
   "cell_type": "code",
   "execution_count": 8,
   "metadata": {},
   "outputs": [
    {
     "data": {
      "text/plain": [
       "True"
      ]
     },
     "execution_count": 8,
     "metadata": {},
     "output_type": "execute_result"
    }
   ],
   "source": [
    "a = \"joker\"\n",
    "b = \"jokar\"\n",
    "a > b\n",
    " # ascll中a在e前,由小到大排列"
   ]
  },
  {
   "cell_type": "markdown",
   "metadata": {},
   "source": [
    "## Markdown \n",
    "- https://github.com/younghz/Markdown"
   ]
  },
  {
   "cell_type": "code",
   "execution_count": null,
   "metadata": {},
   "outputs": [],
   "source": [
    "#markdown $$标记，点击绿框内变蓝，在点击上方代码变成标记。"
   ]
  },
  {
   "cell_type": "markdown",
   "metadata": {},
   "source": [
    "$ y=a * k$"
   ]
  },
  {
   "cell_type": "markdown",
   "metadata": {},
   "source": [
    "## EP:\n",
    "- <img src=\"../Photo/34.png\"></img>\n",
    "- 输入一个数字，判断其实奇数还是偶数"
   ]
  },
  {
   "cell_type": "code",
   "execution_count": 14,
   "metadata": {},
   "outputs": [
    {
     "name": "stdout",
     "output_type": "stream",
     "text": [
      "1 0\n"
     ]
    }
   ],
   "source": [
    "i = int(True)\n",
    "j = int(False)\n",
    "print(i,j)"
   ]
  },
  {
   "cell_type": "markdown",
   "metadata": {},
   "source": [
    "## 产生随机数字\n",
    "- 函数random.randint(a,b) 可以用来产生一个a和b之间且包括a和b的随机整数"
   ]
  },
  {
   "cell_type": "code",
   "execution_count": 16,
   "metadata": {},
   "outputs": [
    {
     "data": {
      "text/plain": [
       "0"
      ]
     },
     "execution_count": 16,
     "metadata": {},
     "output_type": "execute_result"
    }
   ],
   "source": [
    "import random\n",
    "random. randint(0,1)"
   ]
  },
  {
   "cell_type": "markdown",
   "metadata": {},
   "source": [
    "产生一个随机数，你去输入，如果你输入的数大于随机数，那么就告诉你太大了，反之，太小了，\n",
    "然后你一直输入，知道它满意为止"
   ]
  },
  {
   "cell_type": "code",
   "execution_count": 44,
   "metadata": {},
   "outputs": [
    {
     "name": "stdout",
     "output_type": "stream",
     "text": [
      "输入一个随机数1\n",
      "太小了\n",
      "输入一个随机数2\n",
      "太小了\n",
      "输入一个随机数3\n",
      "太小了\n",
      "输入一个随机数4\n",
      "太小了\n",
      "输入一个随机数5\n",
      "太大了\n"
     ]
    }
   ],
   "source": [
    "import random\n",
    "for i in range(5):\n",
    "    a = eval(input(\"输入一个随机数\"))\n",
    "    b = random. randint(1,5)\n",
    "    if a > b:\n",
    "        print(\"太大了\")\n",
    "    if a < b:\n",
    "        print(\"太小了\")\n",
    "    if a == b:\n",
    "        print('end')\n",
    "        break"
   ]
  },
  {
   "cell_type": "code",
   "execution_count": 42,
   "metadata": {},
   "outputs": [
    {
     "name": "stdout",
     "output_type": "stream",
     "text": [
      "46\n"
     ]
    }
   ],
   "source": [
    "b = random. randint(10,50)\n",
    "print (b)"
   ]
  },
  {
   "cell_type": "markdown",
   "metadata": {},
   "source": [
    "##  其他random方法\n",
    "- random.random 返回0.0到1.0之间前闭后开区间的随机浮点\n",
    "- random.randrange(a,b) 前闭后开"
   ]
  },
  {
   "cell_type": "code",
   "execution_count": 51,
   "metadata": {},
   "outputs": [
    {
     "data": {
      "text/plain": [
       "0.1794483680453708"
      ]
     },
     "execution_count": 51,
     "metadata": {},
     "output_type": "execute_result"
    }
   ],
   "source": [
    "random.random()"
   ]
  },
  {
   "cell_type": "code",
   "execution_count": 48,
   "metadata": {},
   "outputs": [
    {
     "data": {
      "text/plain": [
       "1"
      ]
     },
     "execution_count": 48,
     "metadata": {},
     "output_type": "execute_result"
    }
   ],
   "source": [
    "random.randrange(1,2)"
   ]
  },
  {
   "cell_type": "markdown",
   "metadata": {},
   "source": [
    "## EP：\n",
    "- 产生两个随机整数number1和number2，然后显示给用户，使用户输入数字的和，并判定其是否正确\n",
    "- 进阶:写一个随机序号点名程序"
   ]
  },
  {
   "cell_type": "code",
   "execution_count": 3,
   "metadata": {},
   "outputs": [
    {
     "name": "stdout",
     "output_type": "stream",
     "text": [
      "3 5\n",
      "请输入一个数字：7\n",
      "你错了，请在输入一次！\n",
      "请输入一个数字：8\n",
      "congratulation\n"
     ]
    }
   ],
   "source": [
    "import random\n",
    "number_1 = random. randint(1,6)\n",
    "number_2 = random. randint(1,10)\n",
    "print(number_1,number_2)\n",
    "a = number_1 + number_2\n",
    "while 1:\n",
    "    sum_ = eval(input('请输入一个数字：'))\n",
    "    if sum_==a:\n",
    "        print('congratulation')\n",
    "        break\n",
    "    else:\n",
    "        print('你错了，请在输入一次！') "
   ]
  },
  {
   "cell_type": "markdown",
   "metadata": {},
   "source": [
    "## if语句\n",
    "- 如果条件正确就执行一个单向if语句，亦即当条件为真的时候才执行if内部的语句\n",
    "- Python有很多选择语句:\n",
    "> - 单向if \n",
    "  - 双向if-else\n",
    "  - 嵌套if\n",
    "  - 多向if-elif-else\n",
    "  \n",
    "- 注意：当语句含有子语句的时候，那么一定至少要有一个缩进，也就是说如果有儿子存在，那么一定要缩进\n",
    "- 切记不可tab键和space混用，单用tab 或者 space\n",
    "- 当你输出的结果是无论if是否为真时都需要显示时，语句应该与if对齐"
   ]
  },
  {
   "cell_type": "code",
   "execution_count": 6,
   "metadata": {},
   "outputs": [
    {
     "name": "stdout",
     "output_type": "stream",
     "text": [
      "输入一个随机数5\n",
      "太大了\n",
      "不要灰心\n"
     ]
    }
   ],
   "source": [
    "import random\n",
    "a = eval(input(\"输入一个随机数\"))\n",
    "b = random.randint(1,5)\n",
    "if a > b:\n",
    "    print(\"太大了\")\n",
    "if a < b:\n",
    "    print(\"太小了\")\n",
    "if a == b:\n",
    "    print('end')\n",
    "print ('不要灰心')"
   ]
  },
  {
   "cell_type": "code",
   "execution_count": 13,
   "metadata": {},
   "outputs": [
    {
     "name": "stdout",
     "output_type": "stream",
     "text": [
      "年轻么[y/n]y\n",
      "帅否[y/n]y\n",
      "有没有老婆[y/n]y\n",
      "回家的诱惑\n"
     ]
    }
   ],
   "source": [
    "age = input('年轻么[y/n]')\n",
    "if age == 'y':\n",
    "    handsome = input('帅否[y/n]')\n",
    "    if handsome == 'y':\n",
    "        wife = input('有没有老婆[y/n]')\n",
    "        if wife == 'y':\n",
    "            print('回家的诱惑')\n",
    "        else :\n",
    "            print('立马结婚')\n",
    "    else:\n",
    "        print ('考虑一下')\n",
    "else :\n",
    "    print('拜拜')\n"
   ]
  },
  {
   "cell_type": "markdown",
   "metadata": {},
   "source": [
    "## EP：\n",
    "- 用户输入一个数字，判断其实奇数还是偶数\n",
    "- 进阶：可以查看下4.5实例研究猜生日"
   ]
  },
  {
   "cell_type": "markdown",
   "metadata": {},
   "source": [
    "## 双向if-else 语句\n",
    "- 如果条件为真，那么走if内部语句，否则走else内部语句"
   ]
  },
  {
   "cell_type": "markdown",
   "metadata": {},
   "source": [
    "## EP：\n",
    "- 产生两个随机整数number1和number2，然后显示给用户，使用户输入数字，并判定其是否正确,如果正确打印“you‘re correct”，否则打印正确错误"
   ]
  },
  {
   "cell_type": "markdown",
   "metadata": {},
   "source": [
    "## 嵌套if 和多向if-elif-else\n",
    "![](../Photo/35.png)"
   ]
  },
  {
   "cell_type": "markdown",
   "metadata": {},
   "source": [
    "## EP：\n",
    "- 提示用户输入一个年份，然后显示表示这一年的动物\n",
    "![](../Photo/36.png)\n",
    "- 计算身体质量指数的程序\n",
    "- BMI = 以千克为单位的体重除以以米为单位的身高的平方\n",
    "![](../Photo/37.png)"
   ]
  },
  {
   "cell_type": "code",
   "execution_count": 5,
   "metadata": {},
   "outputs": [
    {
     "name": "stdout",
     "output_type": "stream",
     "text": [
      "输入一个年份1996\n",
      "鼠\n"
     ]
    }
   ],
   "source": [
    "year = eval(input('输入一个年份'))\n",
    "if year % 12 == 0:\n",
    "    res=('猴')\n",
    "elif year % 12 == 1:\n",
    "    res=('鸡')\n",
    "elif year % 12 == 2:\n",
    "    res=('狗')\n",
    "elif year % 12 == 3:\n",
    "    res=('猪')\n",
    "elif year % 12 == 4:\n",
    "    res=('鼠')\n",
    "elif year % 12 == 5:\n",
    "    res=('牛')\n",
    "elif year % 12 == 6:\n",
    "    res=('虎')\n",
    "elif year % 12 == 7:\n",
    "    res=('兔')\n",
    "elif year % 12 == 8:\n",
    "    res=('龙')\n",
    "elif year % 12 == 9:\n",
    "    res=('蛇')\n",
    "elif year % 12 == 10:\n",
    "    res=('马')\n",
    "elif year % 12 == 11:\n",
    "    res=('羊')\n",
    "print (res)"
   ]
  },
  {
   "cell_type": "code",
   "execution_count": 18,
   "metadata": {},
   "outputs": [
    {
     "name": "stdout",
     "output_type": "stream",
     "text": [
      "输入一个体重46\n",
      "输入一个身高1.63\n",
      "超轻\n"
     ]
    }
   ],
   "source": [
    "tizhong = eval(input('输入一个体重'))\n",
    "shengao = eval(input('输入一个身高'))\n",
    "BIM = tizhong/(shengao**2)\n",
    "if BIM < 18.5:\n",
    "    print('超轻')\n",
    "elif 18.5<=BIM <= 25.0:\n",
    "    print('标准')\n",
    "elif 25.0<=BIM < 30:\n",
    "    print('超重')\n",
    "else:\n",
    "    print('痴肥')"
   ]
  },
  {
   "cell_type": "markdown",
   "metadata": {},
   "source": [
    "## 逻辑运算符\n",
    "![](../Photo/38.png)"
   ]
  },
  {
   "cell_type": "markdown",
   "metadata": {},
   "source": [
    "![](../Photo/39.png)\n",
    "![](../Photo/40.png)"
   ]
  },
  {
   "cell_type": "markdown",
   "metadata": {},
   "source": [
    "## EP：\n",
    "- 判定闰年：一个年份如果能被4整除但不能被100整除，或者能被400整除，那么这个年份就是闰年\n",
    "- 提示用户输入一个年份，并返回是否是闰年\n",
    "- 提示用户输入一个数字，判断其是否为水仙花数"
   ]
  },
  {
   "cell_type": "code",
   "execution_count": 8,
   "metadata": {},
   "outputs": [
    {
     "name": "stdout",
     "output_type": "stream",
     "text": [
      "输入一个年份2018\n",
      "不是平年\n"
     ]
    }
   ],
   "source": [
    "year = eval(input('输入一个年份'))\n",
    "if (year % 4 == 0 and year % 100!= 0)or (year %400 == 0):\n",
    "    print('是闰年')\n",
    "else:\n",
    "    print('不是平年')"
   ]
  },
  {
   "cell_type": "code",
   "execution_count": null,
   "metadata": {},
   "outputs": [],
   "source": [
    "# 水仙花数是把百位数，十位数，个位数分别3次方相加等于原数"
   ]
  },
  {
   "cell_type": "code",
   "execution_count": 16,
   "metadata": {},
   "outputs": [
    {
     "name": "stdout",
     "output_type": "stream",
     "text": [
      "输入一个数字223\n",
      "不是水仙花\n"
     ]
    }
   ],
   "source": [
    "Number = eval(input('输入一个数字'))\n",
    "bai = Number//100\n",
    "shi = Number//10%10\n",
    "ge = Number%10\n",
    "if Number == bai**3+shi**3+ge**3:\n",
    "    print('水仙花')\n",
    "else:\n",
    "    print('不是水仙花')"
   ]
  },
  {
   "cell_type": "markdown",
   "metadata": {},
   "source": [
    "## 实例研究：彩票\n",
    "![](../Photo/41.png)"
   ]
  },
  {
   "cell_type": "code",
   "execution_count": 4,
   "metadata": {},
   "outputs": [
    {
     "name": "stdout",
     "output_type": "stream",
     "text": [
      "用户输入一个数69\n"
     ]
    }
   ],
   "source": [
    "import random\n",
    "number = random.randint(10,99)\n",
    "N=input('用户输入一个数')\n",
    "number_shi = number//10\n",
    "number_ge = number % 10\n",
    "if N[0]=='0':\n",
    "    N_shi = 0\n",
    "else:\n",
    "    N_shi = int(N)//10\n",
    "    N_ge = int(N)%10\n",
    "if number == int(N):\n",
    "    print('10000')\n",
    "elif number_shi + number_ge == N_shi + N_ge:\n",
    "    print('3000')\n",
    "elif(number_ge == N_ge or number_ge == N_shi) or (number_shi == N_ge or number_ge == N_shi):\n",
    "    print('1000')"
   ]
  },
  {
   "cell_type": "markdown",
   "metadata": {},
   "source": [
    "# Homework\n",
    "- 1\n",
    "![](../Photo/42.png)"
   ]
  },
  {
   "cell_type": "code",
   "execution_count": 19,
   "metadata": {},
   "outputs": [
    {
     "name": "stdout",
     "output_type": "stream",
     "text": [
      "输入a:1\n",
      "输入b:2\n",
      "输入c:1\n",
      "-1.0\n"
     ]
    }
   ],
   "source": [
    "import math\n",
    "a = int(input('输入a:'))\n",
    "b = int(input('输入b:'))\n",
    "c = int(input('输入c:'))\n",
    "r =  b ** 2-4*a*c \n",
    "r1 = (-b+math.sqrt(r))/(2*a)\n",
    "r2 = (-b-math.sqrt(r))/(2*a)\n",
    "r3 = -b/2*a\n",
    "if r > 0:\n",
    "    print(r1 , r2)\n",
    "if r == 0:\n",
    "    print(r3)\n",
    "if r < 0:\n",
    "    print(\"the equation has no roots\")"
   ]
  },
  {
   "cell_type": "markdown",
   "metadata": {},
   "source": [
    "- 2\n",
    "![](../Photo/43.png)"
   ]
  },
  {
   "cell_type": "code",
   "execution_count": 1,
   "metadata": {},
   "outputs": [
    {
     "name": "stdout",
     "output_type": "stream",
     "text": [
      "27 0\n",
      "输入两个数的和:28\n",
      "程序为假,请在输入一次\n",
      "输入两个数的和:27\n",
      "程序为真\n"
     ]
    }
   ],
   "source": [
    "import random\n",
    "number_1 =random.randint(0,100)\n",
    "number_2 =random.randint(0,100)\n",
    "print(number_1,number_2)\n",
    "a = number_1 + number_2\n",
    "while 1:\n",
    "    s = eval(input('输入两个数的和:'))\n",
    "    if s == a:\n",
    "        print(\"程序为真\")\n",
    "        break\n",
    "    else:\n",
    "        print(\"程序为假,请在输入一次\")          "
   ]
  },
  {
   "cell_type": "markdown",
   "metadata": {},
   "source": [
    "- 3\n",
    "![](../Photo/44.png)"
   ]
  },
  {
   "cell_type": "code",
   "execution_count": 18,
   "metadata": {},
   "outputs": [
    {
     "name": "stdout",
     "output_type": "stream",
     "text": [
      "请输入1-7的整数1\n",
      "今天是星期几0\n",
      "请输入今天到未来某天的天数3\n",
      "13\n",
      "4\n",
      "今天是星期四\n"
     ]
    }
   ],
   "source": [
    "import datetime\n",
    "weeks = ['0','1','2','3','4','5','6']\n",
    "today = int(input('请输入1-7的整数'))\n",
    "print('今天是星期几'+ weeks[today-1])\n",
    "weilai = int(input('请输入今天到未来某天的天数'))\n",
    "today_weilai = today + weilai\n",
    "print (today_welilai)\n",
    "ji = today_weilai%7\n",
    "print(ji)\n",
    "if ji == 0:\n",
    "    print('今天是星期日')\n",
    "elif ji == 1:\n",
    "    print('今天是星期一')\n",
    "elif ji == 2:\n",
    "    print('今天是星期二')\n",
    "elif ji == 3:\n",
    "    print('今天是星期三')\n",
    "elif ji == 4:\n",
    "    print('今天是星期四')\n",
    "elif ji == 5:\n",
    "    print('今天是星期五')\n",
    "else:\n",
    "    print('今天是星期六')"
   ]
  },
  {
   "cell_type": "markdown",
   "metadata": {},
   "source": [
    "- 4\n",
    "![](../Photo/45.png)"
   ]
  },
  {
   "cell_type": "code",
   "execution_count": 2,
   "metadata": {},
   "outputs": [
    {
     "name": "stdout",
     "output_type": "stream",
     "text": [
      "输入第一个整数:56\n",
      "输入第二个整数:89\n",
      "输入第三个整数:50\n",
      "50 56 89\n"
     ]
    }
   ],
   "source": [
    "a = int(input('输入第一个整数:'))\n",
    "b = int(input('输入第二个整数:'))\n",
    "c = int(input('输入第三个整数:'))\n",
    "if a > b > c:\n",
    "    print(c, b, a)\n",
    "elif a > c > b:\n",
    "    print(b, c, a)\n",
    "elif b > a > c:\n",
    "    print(c, a, b)\n",
    "elif b > c > a:\n",
    "    print(a, c, b)\n",
    "elif c >a > b:\n",
    "    print(b, a, c)\n",
    "else:\n",
    "    print(a, b, c)           "
   ]
  },
  {
   "cell_type": "markdown",
   "metadata": {},
   "source": [
    "- 6\n",
    "![](../Photo/47.png)"
   ]
  },
  {
   "cell_type": "code",
   "execution_count": 20,
   "metadata": {},
   "outputs": [
    {
     "name": "stdout",
     "output_type": "stream",
     "text": [
      "输入月份:3\n",
      "输入年份:2005\n",
      "31天\n"
     ]
    }
   ],
   "source": [
    "month = int(input('输入月份:'))\n",
    "year = int(input('输入年份:'))\n",
    "if month in (1,3,5,7,8,10,12):\n",
    "    print('31天')\n",
    "elif month == 2:\n",
    "    if(year%100!=0and year%4 == 0 or year%400 == 0):\n",
    "        print('29天')\n",
    "    else:\n",
    "        print('28天')\n",
    "else:\n",
    "    print('30天')"
   ]
  },
  {
   "cell_type": "markdown",
   "metadata": {},
   "source": [
    "- 7\n",
    "![](../Photo/48.png)"
   ]
  },
  {
   "cell_type": "code",
   "execution_count": 24,
   "metadata": {},
   "outputs": [
    {
     "name": "stdout",
     "output_type": "stream",
     "text": [
      "硬币是正面\n",
      "输入一个猜测值:1\n",
      "正确\n"
     ]
    }
   ],
   "source": [
    "import random\n",
    "number = random.randint(0,1)\n",
    "if number ==1:\n",
    "    print('硬币是正面')\n",
    "else:\n",
    "    print('硬币是反面')\n",
    "a = int(input('输入一个猜测值:'))\n",
    "if a == number:\n",
    "    print('正确')\n",
    "else:\n",
    "    print('错误')"
   ]
  },
  {
   "cell_type": "markdown",
   "metadata": {},
   "source": [
    "- 8\n",
    "![](../Photo/49.png)"
   ]
  },
  {
   "cell_type": "code",
   "execution_count": 29,
   "metadata": {},
   "outputs": [
    {
     "name": "stdout",
     "output_type": "stream",
     "text": [
      "布\n",
      "输入一个猜测值:1\n",
      "计算机胜\n"
     ]
    }
   ],
   "source": [
    "import random\n",
    "number = random.randint(0,2)\n",
    "if number == 0:\n",
    "    print('剪刀')\n",
    "if number == 1:\n",
    "    print('石头')    \n",
    "else:\n",
    "    print('布')\n",
    "a = int(input('输入一个猜测值:'))\n",
    "if a == number:\n",
    "    print('平局')\n",
    "elif a == 0 and number == 1:\n",
    "    print('计算机赢')\n",
    "elif a == 0 and number == 2:\n",
    "    print('用户胜')\n",
    "elif number == 0 and a == 1:\n",
    "    print('用户胜')    \n",
    "elif number == 0 and a == 2:\n",
    "    print('计算机胜')    \n",
    "elif a == 1 and number == 0:\n",
    "    print('用户胜')\n",
    "elif a == 1 and number == 2:\n",
    "    print('计算机胜')\n",
    "elif number == 1 and a == 0:\n",
    "    print('计算机胜')    \n",
    "elif number == 1 and a == 2:\n",
    "    print('用户胜')    \n",
    "elif a == 2 and number == 0:\n",
    "    print('计算机胜')    \n",
    "elif a == 2 and number == 1:\n",
    "    print('用户胜')    \n",
    "elif number == 2 and a == 0:\n",
    "    print('用户胜')\n",
    "elif number == 2 and a == 1:\n",
    "    print('计算机胜')    "
   ]
  },
  {
   "cell_type": "markdown",
   "metadata": {},
   "source": [
    "- 9\n",
    "![](../Photo/50.png)"
   ]
  },
  {
   "cell_type": "code",
   "execution_count": 35,
   "metadata": {},
   "outputs": [
    {
     "name": "stdout",
     "output_type": "stream",
     "text": [
      "输入年份:2013\n",
      "输入月份:1\n",
      "输入这个月的某天:25\n",
      "今天是星期五\n"
     ]
    }
   ],
   "source": [
    "y = int(input('输入年份:'))\n",
    "m = int(input('输入月份:'))\n",
    "q = int(input('输入这个月的某天:'))\n",
    "j = (y/100)\n",
    "k = (y % 100)\n",
    "h = (q + 26*(m+1)/10 + k + k/4 + j/4 +5*j)%7\n",
    "if h == 0:\n",
    "    print('今天是星期六')\n",
    "elif h == 1:\n",
    "    print ('今天是星期日')\n",
    "elif h == 2:\n",
    "    print('今天是星期一')\n",
    "elif h == 3:\n",
    "    print('今天是星期二')\n",
    "elif h == 4:\n",
    "    print('今天是星期三')\n",
    "elif h == 5:\n",
    "    print('今天是星期四')\n",
    "else:\n",
    "    print('今天是星期五')"
   ]
  },
  {
   "cell_type": "markdown",
   "metadata": {},
   "source": [
    "- 10\n",
    "![](../Photo/51.png)"
   ]
  },
  {
   "cell_type": "code",
   "execution_count": 15,
   "metadata": {},
   "outputs": [
    {
     "name": "stdout",
     "output_type": "stream",
     "text": [
      "黑桃K\n"
     ]
    }
   ],
   "source": [
    "import random\n",
    "color = random.randint(0,4)\n",
    "value = random.randint(0,12)\n",
    "huase = ['黑桃','红桃','方块','梅花','王']\n",
    "card = ['A','2','3','4','5','6','7','8','9','10','J','Q','K']\n",
    "print(huase[color]+card[value])"
   ]
  },
  {
   "cell_type": "markdown",
   "metadata": {},
   "source": [
    "- 11\n",
    "![](../Photo/52.png)"
   ]
  },
  {
   "cell_type": "code",
   "execution_count": 14,
   "metadata": {},
   "outputs": [
    {
     "name": "stdout",
     "output_type": "stream",
     "text": [
      "输入第一个百位数1\n",
      "输入第一个十位数2\n",
      "输入第一个个位数3\n",
      "不是\n"
     ]
    }
   ],
   "source": [
    "a1 = float(input('输入第一个百位数'))\n",
    "a2 = float(input('输入第一个十位数'))\n",
    "a3 = float(input('输入第一个个位数'))\n",
    "if (a1,a2,a3) == (a3,a2,a1):\n",
    "    print('这是回文数')\n",
    "else:\n",
    "    print('不是回文数')"
   ]
  },
  {
   "cell_type": "markdown",
   "metadata": {},
   "source": [
    "- 12\n",
    "![](../Photo/53.png)"
   ]
  },
  {
   "cell_type": "code",
   "execution_count": 12,
   "metadata": {},
   "outputs": [
    {
     "name": "stdout",
     "output_type": "stream",
     "text": [
      "输入第一个边长1\n",
      "输入第二个边长1\n",
      "输入第三个边长1\n",
      "3.0\n"
     ]
    }
   ],
   "source": [
    "b_1 = float(input('输入第一个边长'))\n",
    "b_2 = float(input('输入第二个边长'))\n",
    "b_3 = float(input('输入第三个边长'))\n",
    "if b_1 + b_2 > b_3 and b_1 + b_3 > b_2 and b_2 + b_3 > b_1:\n",
    "    print(b_1 + b_2 + b_3)\n",
    "else:\n",
    "    print('非法')"
   ]
  }
 ],
 "metadata": {
  "kernelspec": {
   "display_name": "Python 3",
   "language": "python",
   "name": "python3"
  },
  "language_info": {
   "codemirror_mode": {
    "name": "ipython",
    "version": 3
   },
   "file_extension": ".py",
   "mimetype": "text/x-python",
   "name": "python",
   "nbconvert_exporter": "python",
   "pygments_lexer": "ipython3",
   "version": "3.7.3"
  }
 },
 "nbformat": 4,
 "nbformat_minor": 2
}
