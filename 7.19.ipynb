{
 "cells": [
  {
   "cell_type": "markdown",
   "metadata": {},
   "source": [
    "# 循环\n",
    "- 循环是一种控制语句块重复执行的结构\n",
    "- while  适用于广度遍历\n",
    "- for    开发中经常使用"
   ]
  },
  {
   "cell_type": "markdown",
   "metadata": {},
   "source": [
    "## while 循环\n",
    "- 当一个条件保持真的时候while循环重复执行语句\n",
    "- while 循环一定要有结束条件，否则很容易进入死循环\n",
    "- while 循环的语法是：\n",
    "\n",
    "    while loop-contunuation-conndition:\n",
    "\n",
    "        Statement"
   ]
  },
  {
   "cell_type": "markdown",
   "metadata": {},
   "source": [
    "## 示例：\n",
    "sum = 0\n",
    "\n",
    "i = 1\n",
    "\n",
    "while i <10:\n",
    "\n",
    "    sum = sum + i\n",
    "    i = i + 1"
   ]
  },
  {
   "cell_type": "code",
   "execution_count": 1,
   "metadata": {},
   "outputs": [],
   "source": [
    "import os\n",
    "i = 0\n",
    "while i:\n",
    "    os.system('calc')\n",
    "    i += 1\n",
    "    #死循环，可用上面的黑色正方形停止"
   ]
  },
  {
   "cell_type": "code",
   "execution_count": 6,
   "metadata": {},
   "outputs": [
    {
     "name": "stdout",
     "output_type": "stream",
     "text": [
      "今天天气好晴朗\n",
      "今天天气好晴朗\n",
      "今天天气好晴朗\n",
      "今天天气好晴朗\n",
      "今天天气好晴朗\n",
      "今天天气好晴朗\n",
      "今天天气好晴朗\n",
      "今天天气好晴朗\n",
      "今天天气好晴朗\n",
      "今天天气好晴朗\n"
     ]
    }
   ],
   "source": [
    "i = 0\n",
    "while i<10:\n",
    "    print('今天天气好晴朗')\n",
    "    i = i + 1"
   ]
  },
  {
   "cell_type": "markdown",
   "metadata": {},
   "source": [
    "## 错误示例：\n",
    "sum = 0\n",
    "\n",
    "i = 1\n",
    "\n",
    "while i <10:\n",
    "\n",
    "    sum = sum + i\n",
    "\n",
    "i = i + 1\n",
    "- 一旦进入死循环可按 Ctrl + c 停止"
   ]
  },
  {
   "cell_type": "markdown",
   "metadata": {},
   "source": [
    "## EP：\n",
    "![](../Photo/143.png)\n",
    "![](../Photo/144.png)"
   ]
  },
  {
   "cell_type": "code",
   "execution_count": 2,
   "metadata": {},
   "outputs": [
    {
     "name": "stdout",
     "output_type": "stream",
     "text": [
      "enter an integer:2\n",
      "inter an integer3\n",
      "inter an integer4\n",
      "inter an integer5\n",
      "inter an integer0\n",
      "max is 5\n",
      "number 0\n"
     ]
    }
   ],
   "source": [
    "number = eval(input(\"enter an integer:\"))\n",
    "max = number\n",
    "while number != 0:\n",
    "    number = eval(input(\"inter an integer\"))\n",
    "    if number > max:\n",
    "        max = number\n",
    "print(\"max is\",max)\n",
    "print(\"number\",number)"
   ]
  },
  {
   "cell_type": "markdown",
   "metadata": {},
   "source": [
    "# 验证码\n",
    "- 随机产生四个字母的验证码，如果正确，输出验证码正确。如果错误，产生新的验证码，用户重新输入。\n",
    "- 验证码只能输入三次，如果三次都错，返回“别爬了，我们小网站没什么好爬的”\n",
    "- 密码登录，如果三次错误，账号被锁定\n"
   ]
  },
  {
   "cell_type": "code",
   "execution_count": 39,
   "metadata": {},
   "outputs": [
    {
     "name": "stdout",
     "output_type": "stream",
     "text": [
      "验证码为: 4981\n",
      "请输入一个四个随机数:1111\n",
      "验证码错误\n",
      "验证码为: 3813\n",
      "请输入一个四个随机数:3813\n",
      "验证码正确\n"
     ]
    }
   ],
   "source": [
    "while 1:\n",
    "    number = random.randint(1000,9999)\n",
    "    print('验证码为:',number)\n",
    "    me = eval(input(\"请输入一个四个随机数:\"))\n",
    "    if number == me:\n",
    "        print('验证码正确')\n",
    "        break\n",
    "        #如果break则之后的代码都不执行\n",
    "    else :\n",
    "        print(\"验证码错误\")"
   ]
  },
  {
   "cell_type": "code",
   "execution_count": 37,
   "metadata": {},
   "outputs": [
    {
     "name": "stdout",
     "output_type": "stream",
     "text": [
      "验证码是: pkuu\n",
      "输入验证码pkun\n",
      "验证码错误\n",
      "验证码是: drdr\n",
      "输入验证码drds\n",
      "验证码错误\n",
      "验证码是: coti\n",
      "输入验证码coco\n",
      "验证码错误\n",
      "验证码是: ntrf\n",
      "输入验证码ntt\n",
      "验证码错误\n",
      "验证码是: qvni\n",
      "输入验证码qvni\n",
      "验证码正确\n"
     ]
    }
   ],
   "source": [
    "while True:\n",
    "    n1 =  chr(random.randint(97,122))\n",
    "    n2 =  chr(random.randint(97,122))\n",
    "    n3 =  chr(random.randint(97,122))\n",
    "    n4 =  chr(random.randint(97,122))\n",
    "    N = n1 + n2 + n3 + n4\n",
    "    print('验证码是:',N)\n",
    "    me = input('输入验证码')\n",
    "    if me == N:\n",
    "        print('验证码正确')\n",
    "        break\n",
    "    else:\n",
    "        print('验证码错误')"
   ]
  },
  {
   "cell_type": "code",
   "execution_count": 4,
   "metadata": {},
   "outputs": [
    {
     "name": "stdout",
     "output_type": "stream",
     "text": [
      "验证码是: YjZu\n",
      "输入验证码yjzu\n",
      "验证码正确\n"
     ]
    }
   ],
   "source": [
    "import random\n",
    "while 1:\n",
    "    n1 = chr(random.randint(65,90))\n",
    "    n2 =  chr(random.randint(97,122))\n",
    "    n3 =  chr(random.randint(65,90))\n",
    "    n4 =  chr(random.randint(97,122))\n",
    "    shuffle_n = [n1,n2,n3,n4]\n",
    "    random.shuffle(shuffle_n)\n",
    "    N = \"\".join(shuffle_n)\n",
    "    print('验证码是:',N)\n",
    "    me = input('输入验证码')\n",
    "    if me.lower() == N.lower():\n",
    "        print('验证码正确')\n",
    "        break\n",
    "    else:\n",
    "        print('验证码错误')"
   ]
  },
  {
   "cell_type": "code",
   "execution_count": 41,
   "metadata": {},
   "outputs": [
    {
     "data": {
      "text/plain": [
       "'J'"
      ]
     },
     "execution_count": 41,
     "metadata": {},
     "output_type": "execute_result"
    }
   ],
   "source": [
    "a = 'j'\n",
    "a.upper() \n",
    "##upper将小写改为大写"
   ]
  },
  {
   "cell_type": "code",
   "execution_count": 43,
   "metadata": {},
   "outputs": [
    {
     "data": {
      "text/plain": [
       "'g'"
      ]
     },
     "execution_count": 43,
     "metadata": {},
     "output_type": "execute_result"
    }
   ],
   "source": [
    "a = 'G'\n",
    "a.lower()\n",
    "##lower将大写改为小写"
   ]
  },
  {
   "cell_type": "markdown",
   "metadata": {},
   "source": [
    "## 尝试死循环"
   ]
  },
  {
   "cell_type": "markdown",
   "metadata": {},
   "source": [
    "## 实例研究：猜数字\n",
    "- 你将要编写一个能够随机生成一个0到10之间的且包括两者的数字程序，这个程序\n",
    "- 提示用户连续地输入数字直到正确，且提示用户输入的数字是过高还是过低"
   ]
  },
  {
   "cell_type": "code",
   "execution_count": null,
   "metadata": {},
   "outputs": [],
   "source": [
    "import random\n",
    "while 1:\n",
    "    N1 = random.randint(0,10)\n",
    "    N2 = random.randint(0,10)\n",
    "    input_=eval(input('sum'))\n",
    "    if N1 + N2 == input_:\n",
    "        print(\"Corret！!\")\n",
    "        break"
   ]
  },
  {
   "cell_type": "markdown",
   "metadata": {},
   "source": [
    "## 使用哨兵值来控制循环\n",
    "- 哨兵值来表明输入的结束\n",
    "- ![](../Photo/54.png)"
   ]
  },
  {
   "cell_type": "markdown",
   "metadata": {},
   "source": [
    "## 警告\n",
    "![](../Photo/55.png)"
   ]
  },
  {
   "cell_type": "markdown",
   "metadata": {},
   "source": [
    "## for 循环\n",
    "- Python的for 循环通过一个序列中的每个值来进行迭代\n",
    "- range(a,b,k)， a，b，k 必须为整数\n",
    "- a: start\n",
    "- b: end\n",
    "- k: step\n",
    "- 注意for 是循环一切可迭代对象，而不是只能使用range"
   ]
  },
  {
   "cell_type": "code",
   "execution_count": 1,
   "metadata": {},
   "outputs": [
    {
     "name": "stdout",
     "output_type": "stream",
     "text": [
      "0\n",
      "1\n",
      "2\n",
      "3\n",
      "4\n",
      "5\n",
      "6\n",
      "7\n",
      "8\n",
      "9\n"
     ]
    }
   ],
   "source": [
    "##range用来控制次数,默认从0开始，步长时1\n",
    "for i in range(10):\n",
    "    print(i)"
   ]
  },
  {
   "cell_type": "code",
   "execution_count": 6,
   "metadata": {},
   "outputs": [
    {
     "name": "stdout",
     "output_type": "stream",
     "text": [
      "0\n",
      "2\n",
      "4\n",
      "6\n",
      "8\n"
     ]
    }
   ],
   "source": [
    "for i in range(0,10,2):\n",
    "    print(i)"
   ]
  },
  {
   "cell_type": "code",
   "execution_count": 8,
   "metadata": {},
   "outputs": [
    {
     "name": "stdout",
     "output_type": "stream",
     "text": [
      "10\n",
      "9\n",
      "8\n",
      "7\n",
      "6\n",
      "5\n",
      "4\n",
      "3\n",
      "2\n",
      "1\n"
     ]
    }
   ],
   "source": [
    "for i in range(10,0,-1):\n",
    "    print(i)"
   ]
  },
  {
   "cell_type": "code",
   "execution_count": 4,
   "metadata": {},
   "outputs": [
    {
     "ename": "SyntaxError",
     "evalue": "invalid character in identifier (<ipython-input-4-42932c3597f0>, line 1)",
     "output_type": "error",
     "traceback": [
      "\u001b[1;36m  File \u001b[1;32m\"<ipython-input-4-42932c3597f0>\"\u001b[1;36m, line \u001b[1;32m1\u001b[0m\n\u001b[1;33m    range(10)，_iter_()\u001b[0m\n\u001b[1;37m                   ^\u001b[0m\n\u001b[1;31mSyntaxError\u001b[0m\u001b[1;31m:\u001b[0m invalid character in identifier\n"
     ]
    }
   ],
   "source": [
    "range(10)._iter_()\n",
    "#有iter 就有for循环"
   ]
  },
  {
   "cell_type": "markdown",
   "metadata": {},
   "source": [
    "# 在Python里面一切皆对象"
   ]
  },
  {
   "cell_type": "markdown",
   "metadata": {},
   "source": [
    "## EP:\n",
    "- ![](../Photo/145.png)"
   ]
  },
  {
   "cell_type": "code",
   "execution_count": 10,
   "metadata": {},
   "outputs": [
    {
     "name": "stdout",
     "output_type": "stream",
     "text": [
      "inter a integer:2\n",
      "sum is  2\n",
      "count is  0\n",
      "inter a integer:3\n",
      "sum is  5\n",
      "count is  1\n",
      "inter a integer:4\n",
      "sum is  9\n",
      "count is  2\n",
      "inter a integer:5\n",
      "sum is  14\n",
      "count is  3\n",
      "inter a integer:0\n",
      "sum is  14\n",
      "count is  4\n"
     ]
    }
   ],
   "source": [
    "number =0\n",
    "sum = 0\n",
    "for count in range(5):\n",
    "    number = eval(input(\"inter a integer:\"))\n",
    "    sum  += number\n",
    "    print(\"sum is \",sum)\n",
    "    print(\"count is \",count)     "
   ]
  },
  {
   "cell_type": "code",
   "execution_count": 13,
   "metadata": {},
   "outputs": [
    {
     "name": "stdout",
     "output_type": "stream",
     "text": [
      "1001\n"
     ]
    }
   ],
   "source": [
    "i = 0\n",
    "sum_ = 0\n",
    "while sum_ < 1001:\n",
    "    sum_ += 1\n",
    "    i += 1\n",
    "print(sum_)"
   ]
  },
  {
   "cell_type": "code",
   "execution_count": 14,
   "metadata": {},
   "outputs": [
    {
     "name": "stdout",
     "output_type": "stream",
     "text": [
      "1001\n"
     ]
    }
   ],
   "source": [
    "sum_ = 0\n",
    "for i in range(1001):\n",
    "    sum_+=1\n",
    "print(sum_)"
   ]
  },
  {
   "cell_type": "code",
   "execution_count": 15,
   "metadata": {},
   "outputs": [
    {
     "name": "stdout",
     "output_type": "stream",
     "text": [
      "142\n",
      "10011\n"
     ]
    }
   ],
   "source": [
    "i = 1\n",
    "sum_ = 0\n",
    "while sum_<10000:\n",
    "    sum_+=i\n",
    "    i+=1\n",
    "print(i)\n",
    "print(sum_)"
   ]
  },
  {
   "cell_type": "code",
   "execution_count": 16,
   "metadata": {},
   "outputs": [
    {
     "name": "stdout",
     "output_type": "stream",
     "text": [
      "10011\n",
      "141\n"
     ]
    }
   ],
   "source": [
    "sum_ = 0\n",
    "for i in range(10000):\n",
    "    sum_+=i\n",
    "    if sum_>10000:\n",
    "        break\n",
    "print(sum_)\n",
    "print(i)"
   ]
  },
  {
   "cell_type": "markdown",
   "metadata": {},
   "source": [
    "## 嵌套循环\n",
    "- 一个循环可以嵌套另一个循环\n",
    "- 每次循环外层时，内层循环都会被刷新重新完成循环\n",
    "- 也就是说，大循环执行一次，小循环会全部执行一次\n",
    "- 注意：\n",
    "> - 多层循环非常耗时\n",
    "  - 最多使用3层循环"
   ]
  },
  {
   "cell_type": "markdown",
   "metadata": {},
   "source": [
    "## EP：\n",
    "- 使用多层循环完成9X9乘法表\n",
    "- 显示50以内所有的素数"
   ]
  },
  {
   "cell_type": "code",
   "execution_count": 31,
   "metadata": {},
   "outputs": [
    {
     "name": "stdout",
     "output_type": "stream",
     "text": [
      "1*1=1\t\n",
      "1*2=2\t2*2=4\t\n",
      "1*3=3\t2*3=6\t3*3=9\t\n",
      "1*4=4\t2*4=8\t3*4=12\t4*4=16\t\n",
      "1*5=5\t2*5=10\t3*5=15\t4*5=20\t5*5=25\t\n",
      "1*6=6\t2*6=12\t3*6=18\t4*6=24\t5*6=30\t6*6=36\t\n",
      "1*7=7\t2*7=14\t3*7=21\t4*7=28\t5*7=35\t6*7=42\t7*7=49\t\n",
      "1*8=8\t2*8=16\t3*8=24\t4*8=32\t5*8=40\t6*8=48\t7*8=56\t8*8=64\t\n",
      "1*9=9\t2*9=18\t3*9=27\t4*9=36\t5*9=45\t6*9=54\t7*9=63\t8*9=72\t9*9=81\t\n"
     ]
    }
   ],
   "source": [
    "for i in range (1,10):\n",
    "    for a in range(1,i+1):\n",
    "        print(\"{}*{}={}\" .format(a,i,i*a),end='\\t')\n",
    "    print()"
   ]
  },
  {
   "cell_type": "code",
   "execution_count": 36,
   "metadata": {},
   "outputs": [
    {
     "name": "stdout",
     "output_type": "stream",
     "text": [
      "1x1=1 \n",
      "1x2=2 2x2=4 \n",
      "1x3=3 2x3=6 3x3=9 \n",
      "1x4=4 2x4=8 3x4=12 4x4=16 \n",
      "1x5=5 2x5=10 3x5=15 4x5=20 5x5=25 \n",
      "1x6=6 2x6=12 3x6=18 4x6=24 5x6=30 6x6=36 \n",
      "1x7=7 2x7=14 3x7=21 4x7=28 5x7=35 6x7=42 7x7=49 \n",
      "1x8=8 2x8=16 3x8=24 4x8=32 5x8=40 6x8=48 7x8=56 8x8=64 \n",
      "1x9=9 2x9=18 3x9=27 4x9=36 5x9=45 6x9=54 7x9=63 8x9=72 9x9=81 \n"
     ]
    }
   ],
   "source": [
    "for i in range (1,10):\n",
    "    for j in range(1,i+1):\n",
    "        print('%dx%d=%d'%(j,i,i*j),end=\" \")\n",
    "    print()"
   ]
  },
  {
   "cell_type": "code",
   "execution_count": null,
   "metadata": {},
   "outputs": [],
   "source": [
    "for i in range (1,50):\n",
    "    if i == 2:\n",
    "        print(i,\""
   ]
  },
  {
   "cell_type": "markdown",
   "metadata": {},
   "source": [
    "## 关键字 break 和 continue\n",
    "- break 跳出循环，终止循环\n",
    "- continue 跳出此次循环，继续执行"
   ]
  },
  {
   "cell_type": "code",
   "execution_count": 18,
   "metadata": {},
   "outputs": [
    {
     "name": "stdout",
     "output_type": "stream",
     "text": [
      "0 0\n",
      "0 1\n",
      "1 0\n",
      "1 1\n"
     ]
    }
   ],
   "source": [
    "#for最多课循环3层，先运行前面的，在后面的\n",
    "for i in range (2):\n",
    "    for j in range (2):\n",
    "        print(i,j)"
   ]
  },
  {
   "cell_type": "code",
   "execution_count": 19,
   "metadata": {},
   "outputs": [
    {
     "name": "stdout",
     "output_type": "stream",
     "text": [
      "9\n"
     ]
    }
   ],
   "source": [
    "for i in range (10):\n",
    "    if i == 5:\n",
    "        continue\n",
    "print(i)"
   ]
  },
  {
   "cell_type": "code",
   "execution_count": 20,
   "metadata": {},
   "outputs": [
    {
     "name": "stdout",
     "output_type": "stream",
     "text": [
      "5\n"
     ]
    }
   ],
   "source": [
    "for i in range (10):\n",
    "    if i == 5:\n",
    "        break\n",
    "print(i)"
   ]
  },
  {
   "cell_type": "code",
   "execution_count": null,
   "metadata": {},
   "outputs": [],
   "source": [
    "for i in range (10):\n",
    "    for j in range (10):\n",
    "        print(i,j)\n",
    "        if j == 5:\n",
    "            break"
   ]
  },
  {
   "cell_type": "code",
   "execution_count": null,
   "metadata": {},
   "outputs": [],
   "source": [
    "##break 和continue之后的程序都不在执行了\n",
    "for i in range (10):\n",
    "    for j in range (10):\n",
    "        print(i,j)\n",
    "        if j == 5:\n",
    "            continue"
   ]
  },
  {
   "cell_type": "code",
   "execution_count": null,
   "metadata": {},
   "outputs": [],
   "source": [
    "%time\n",
    "for i in range(100000):\n",
    "    for j in range(100000):\n",
    "        for k in range(100000):\n",
    "            k += i\n"
   ]
  },
  {
   "cell_type": "markdown",
   "metadata": {},
   "source": [
    "## 注意\n",
    "![](../Photo/56.png)\n",
    "![](../Photo/57.png)"
   ]
  },
  {
   "cell_type": "markdown",
   "metadata": {},
   "source": [
    "# Homework\n",
    "- 1 \n",
    "![](../Photo/58.png)"
   ]
  },
  {
   "cell_type": "code",
   "execution_count": 20,
   "metadata": {},
   "outputs": [
    {
     "name": "stdout",
     "output_type": "stream",
     "text": [
      "1\n",
      "2\n",
      "-1\n",
      "3\n",
      "0\n",
      "正数个数： 3\n",
      "负数个数 1\n",
      "总和 5\n",
      "平均数 1.25\n"
     ]
    }
   ],
   "source": [
    "integer_sum = 0\n",
    "positive_numbers = 0\n",
    "minus_numbers = 0\n",
    "temp = 1\n",
    "while temp == 1:\n",
    "    integer = int(input())\n",
    "    if integer > 0 :\n",
    "        positive_numbers += 1\n",
    "    elif integer < 0:\n",
    "        minus_numbers += 1\n",
    "    elif integer == 0:\n",
    "        break\n",
    "    integer_sum += integer\n",
    "print('正数个数：',positive_numbers)\n",
    "print('负数个数',minus_numbers)\n",
    "print('总和',integer_sum)\n",
    "print('平均数',float(integer_sum / (positive_numbers + minus_numbers)))\n"
   ]
  },
  {
   "cell_type": "markdown",
   "metadata": {},
   "source": [
    "- 2\n",
    "![](../Photo/59.png)"
   ]
  },
  {
   "cell_type": "code",
   "execution_count": 21,
   "metadata": {},
   "outputs": [
    {
     "name": "stdout",
     "output_type": "stream",
     "text": [
      "16288.946267774414\n"
     ]
    }
   ],
   "source": [
    "i= 1\n",
    "b = 10000\n",
    "sum_ = 0\n",
    "for i in range(10):\n",
    "    sum_ = (b * 0.05) + b\n",
    "    b = sum_\n",
    "    i += 1\n",
    "print(sum_)"
   ]
  },
  {
   "cell_type": "code",
   "execution_count": 14,
   "metadata": {},
   "outputs": [
    {
     "name": "stdout",
     "output_type": "stream",
     "text": [
      "10500.0\n"
     ]
    }
   ],
   "source": [
    "money = 10000 \n",
    "i = 1\n",
    "if i<10:\n",
    "    money+= money*5/100\n",
    "    i +=1\n",
    "    print(money)"
   ]
  },
  {
   "cell_type": "markdown",
   "metadata": {},
   "source": [
    "- 3\n",
    "![](../Photo/58.png)"
   ]
  },
  {
   "cell_type": "code",
   "execution_count": null,
   "metadata": {},
   "outputs": [],
   "source": []
  },
  {
   "cell_type": "markdown",
   "metadata": {},
   "source": [
    "- 4\n",
    "![](../Photo/60.png)"
   ]
  },
  {
   "cell_type": "code",
   "execution_count": 22,
   "metadata": {},
   "outputs": [
    {
     "name": "stdout",
     "output_type": "stream",
     "text": [
      "120 150 180 210 240 270 300 330 360 390 420 450 480 510 540 570 600 630 660 690 720 750 780 810 840 870 900 930 960 990 "
     ]
    }
   ],
   "source": [
    "for i in range(100,1000):\n",
    "    if i % 5 == 0 and i % 6 == 0:\n",
    "          print(i,end = ' ')"
   ]
  },
  {
   "cell_type": "markdown",
   "metadata": {},
   "source": [
    "- 5\n",
    "![](../Photo/61.png)"
   ]
  },
  {
   "cell_type": "code",
   "execution_count": 15,
   "metadata": {},
   "outputs": [
    {
     "name": "stdout",
     "output_type": "stream",
     "text": [
      "110\n"
     ]
    }
   ],
   "source": [
    "n = 1\n",
    "while n*n<12000:\n",
    "    n=n+1\n",
    "    continue\n",
    "print(n)"
   ]
  },
  {
   "cell_type": "code",
   "execution_count": 16,
   "metadata": {},
   "outputs": [
    {
     "name": "stdout",
     "output_type": "stream",
     "text": [
      "23\n",
      "22\n"
     ]
    }
   ],
   "source": [
    "m = 1\n",
    "while 12000>m*m*m:\n",
    "    m=m+1\n",
    "    continue\n",
    "print(m)\n",
    "n=m-1\n",
    "print(n)"
   ]
  },
  {
   "cell_type": "markdown",
   "metadata": {},
   "source": [
    "- 6\n",
    "![](../Photo/62.png)"
   ]
  },
  {
   "cell_type": "markdown",
   "metadata": {},
   "source": [
    "- 7\n",
    "![](../Photo/63.png)"
   ]
  },
  {
   "cell_type": "code",
   "execution_count": 23,
   "metadata": {},
   "outputs": [
    {
     "name": "stdout",
     "output_type": "stream",
     "text": [
      "11.397003949278504\n"
     ]
    }
   ],
   "source": [
    "i = 1\n",
    "a = i\n",
    "while i<50000:\n",
    "    i += 1\n",
    "    a += 1/i\n",
    "print(a)"
   ]
  },
  {
   "cell_type": "markdown",
   "metadata": {},
   "source": [
    "- 8\n",
    "![](../Photo/64.png)"
   ]
  },
  {
   "cell_type": "code",
   "execution_count": 18,
   "metadata": {},
   "outputs": [
    {
     "name": "stdout",
     "output_type": "stream",
     "text": [
      "3.141592653589793\n"
     ]
    }
   ],
   "source": [
    "pi_=0\n",
    "N=100\n",
    "for i in range(N):\n",
    "    pi_+=1/pow(16,i)*(4/(8*i+1)-\\\n",
    "        2/(8*i+4)-1/(8*i+5)-1/(8*i+6))\n",
    "print(pi_)"
   ]
  },
  {
   "cell_type": "markdown",
   "metadata": {},
   "source": [
    "- 9\n",
    "![](../Photo/65.png)"
   ]
  },
  {
   "cell_type": "markdown",
   "metadata": {},
   "source": [
    "- 10 \n",
    "![](../Photo/66.png)"
   ]
  },
  {
   "cell_type": "code",
   "execution_count": 29,
   "metadata": {},
   "outputs": [
    {
     "name": "stdout",
     "output_type": "stream",
     "text": [
      "[1, 2, 3]\n",
      "6\n",
      "[1, 2, 4, 7, 14]\n",
      "28\n",
      "[1, 2, 4, 8, 16, 31, 62, 124, 248]\n",
      "496\n",
      "[1, 2, 4, 8, 16, 32, 64, 127, 254, 508, 1016, 2032, 4064]\n",
      "8128\n"
     ]
    }
   ],
   "source": [
    " l = [ ]\n",
    "for n in range (1,10000):\n",
    "    for a in range (1,n):\n",
    "        if n%a ==0:\n",
    "            l.append(a)\n",
    "    if sum(l)==n:\n",
    "        print (l)\n",
    "        print (n)\n",
    "    l = []"
   ]
  },
  {
   "cell_type": "markdown",
   "metadata": {},
   "source": [
    "- 11\n",
    "![](../Photo/67.png)"
   ]
  },
  {
   "cell_type": "code",
   "execution_count": 19,
   "metadata": {},
   "outputs": [
    {
     "name": "stdout",
     "output_type": "stream",
     "text": [
      "[[1, 2], [1, 3], [1, 4], [1, 5], [1, 6], [1, 7], [2, 3], [2, 4], [2, 5], [2, 6], [2, 7], [3, 4], [3, 5], [3, 6], [3, 7], [4, 5], [4, 6], [4, 7], [5, 6], [5, 7], [6, 7]]\n",
      "21\n"
     ]
    }
   ],
   "source": [
    "tmp = []\n",
    "for x in range(1,8):\n",
    "    for y in range(1,8):\n",
    "        if x != y and sorted([x,y]) not in tmp:\n",
    "            tmp.append([x,y]) \n",
    "print (tmp)\n",
    "print (len(tmp))"
   ]
  },
  {
   "cell_type": "markdown",
   "metadata": {},
   "source": [
    "- 12\n",
    "![](../Photo/68.png)"
   ]
  },
  {
   "cell_type": "code",
   "execution_count": null,
   "metadata": {},
   "outputs": [],
   "source": []
  }
 ],
 "metadata": {
  "kernelspec": {
   "display_name": "Python 3",
   "language": "python",
   "name": "python3"
  },
  "language_info": {
   "codemirror_mode": {
    "name": "ipython",
    "version": 3
   },
   "file_extension": ".py",
   "mimetype": "text/x-python",
   "name": "python",
   "nbconvert_exporter": "python",
   "pygments_lexer": "ipython3",
   "version": "3.7.3"
  }
 },
 "nbformat": 4,
 "nbformat_minor": 2
}
